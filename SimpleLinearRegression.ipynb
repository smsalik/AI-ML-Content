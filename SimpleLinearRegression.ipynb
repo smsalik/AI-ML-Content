{
 "cells": [
  {
   "cell_type": "markdown",
   "id": "c7869ff7-6011-49d3-968e-7a0545c181aa",
   "metadata": {},
   "source": [
    "## Regression in machine learning"
   ]
  },
  {
   "cell_type": "code",
   "execution_count": null,
   "id": "7a23b033-f93b-4aca-8889-0ab7bd4064e6",
   "metadata": {},
   "outputs": [],
   "source": [
    "# Regression in machine learning refers to a supervised learning technique where the goal is \n",
    "# to predict a continuous numerical value based on one or more independent features. \n",
    "# It finds relationships between variables so that predictions can be made. \n",
    "# we have two types of variables present in regression:\n",
    "\n",
    "# Dependent Variable (Target): The variable we are trying to predict e.g house price.\n",
    "# Independent Variables (Features): The input variables that influence the prediction e.g locality, number of rooms."
   ]
  },
  {
   "cell_type": "code",
   "execution_count": null,
   "id": "69b16bad-f523-413e-992c-3d1bd9eb59d2",
   "metadata": {},
   "outputs": [],
   "source": [
    "# Linear Regression:\n",
    "# Linear regression is one of the simplest and most widely used statistical models. \n",
    "# This assumes that there is a linear relationship between the independent and dependent variables. \n",
    "# This means that the change in the dependent variable is proportional to the \n",
    "# change in the independent variables. For example predicting the price of a house based on its size.\n"
   ]
  },
  {
   "cell_type": "code",
   "execution_count": null,
   "id": "df3bb8f4-c6a7-4f26-be15-076f1316a2f1",
   "metadata": {},
   "outputs": [],
   "source": [
    "#Notes reference\n",
    "\n",
    "#  https://www.geeksforgeeks.org/regression-in-machine-learning/\n",
    "#  https://www.geeksforgeeks.org/supervised-machine-learning/\n",
    "#  https://www.geeksforgeeks.org/getting-started-with-classification/"
   ]
  },
  {
   "cell_type": "code",
   "execution_count": null,
   "id": "9755dc7f-4817-4ca9-9bb1-d2c6998616f9",
   "metadata": {},
   "outputs": [],
   "source": []
  },
  {
   "cell_type": "code",
   "execution_count": 156,
   "id": "8879564c-aa88-473e-a1bd-c3781e97130f",
   "metadata": {},
   "outputs": [],
   "source": [
    "# 1. In Linear Regression, We need to observe what type of dataset\n",
    "# 2. Need to check relation are dependent or Independent variable are linear or not\n",
    "# 3. if its Linear, we need to check no Feautures or no of independent variable\n",
    "# 4. if we have 1 independent variable or feature, we can use 'Linear Regression'\n",
    "# 5. A simple Linear Regression Equation is:\n",
    "#     y = mX + c\n",
    "# 6. Import Libraries\n",
    "# 7. Need to SPlit into x = (Feauture) and y = (Label)\n",
    "# 8. Spilitting the Dataset through 'sklearn' for Train and Test\n",
    "# 9. Visualized the Model by Scatter plot\n",
    "# 10. Created Liner Model to Fitted at x_train and y_train\n",
    "# 11. Model prediction on x_test\n",
    "# 12. Visualization for x_train and x_Test\n",
    "# 13. Find Random Point for Predict\n",
    "# 14. Coefficient of Equation\n"
   ]
  },
  {
   "cell_type": "markdown",
   "id": "e19966ea-1d61-4616-9095-da79f4f2f501",
   "metadata": {},
   "source": [
    "### Linear Regression\n",
    "\n",
    "#### y = mx + c, m is slope of the line, c is the y-intercept\n",
    "\n",
    "#### y = b0 + b1 * X1\n",
    "\n",
    "#### Salary = b0 + b1 * Experience"
   ]
  },
  {
   "cell_type": "markdown",
   "id": "8c56216a-1ea3-46e2-918b-007d21df07f0",
   "metadata": {},
   "source": [
    "#### Import Libraries and Dataset"
   ]
  },
  {
   "cell_type": "code",
   "execution_count": 85,
   "id": "a7c13880-1578-47c3-b1ab-9ef55bfa60a6",
   "metadata": {},
   "outputs": [],
   "source": [
    "import pandas as pd\n",
    "import numpy as np\n",
    "import matplotlib.pyplot as plt\n",
    "%matplotlib inline"
   ]
  },
  {
   "cell_type": "code",
   "execution_count": 86,
   "id": "9820a676-02d8-43e1-b68d-6d2df34ddbc3",
   "metadata": {},
   "outputs": [],
   "source": [
    "dataset = pd.read_csv(r'C:\\Users\\Admin\\Datasets\\Salary_Data.csv')"
   ]
  },
  {
   "cell_type": "code",
   "execution_count": 87,
   "id": "74b7ba6c-0227-42a4-bd2e-a8748ccc9c72",
   "metadata": {},
   "outputs": [
    {
     "data": {
      "text/html": [
       "<div>\n",
       "<style scoped>\n",
       "    .dataframe tbody tr th:only-of-type {\n",
       "        vertical-align: middle;\n",
       "    }\n",
       "\n",
       "    .dataframe tbody tr th {\n",
       "        vertical-align: top;\n",
       "    }\n",
       "\n",
       "    .dataframe thead th {\n",
       "        text-align: right;\n",
       "    }\n",
       "</style>\n",
       "<table border=\"1\" class=\"dataframe\">\n",
       "  <thead>\n",
       "    <tr style=\"text-align: right;\">\n",
       "      <th></th>\n",
       "      <th>YearsExperience</th>\n",
       "      <th>Salary</th>\n",
       "    </tr>\n",
       "  </thead>\n",
       "  <tbody>\n",
       "    <tr>\n",
       "      <th>0</th>\n",
       "      <td>1.1</td>\n",
       "      <td>39343.0</td>\n",
       "    </tr>\n",
       "    <tr>\n",
       "      <th>1</th>\n",
       "      <td>1.3</td>\n",
       "      <td>46205.0</td>\n",
       "    </tr>\n",
       "    <tr>\n",
       "      <th>2</th>\n",
       "      <td>1.5</td>\n",
       "      <td>37731.0</td>\n",
       "    </tr>\n",
       "    <tr>\n",
       "      <th>3</th>\n",
       "      <td>2.0</td>\n",
       "      <td>43525.0</td>\n",
       "    </tr>\n",
       "    <tr>\n",
       "      <th>4</th>\n",
       "      <td>2.2</td>\n",
       "      <td>39891.0</td>\n",
       "    </tr>\n",
       "    <tr>\n",
       "      <th>5</th>\n",
       "      <td>2.9</td>\n",
       "      <td>56642.0</td>\n",
       "    </tr>\n",
       "    <tr>\n",
       "      <th>6</th>\n",
       "      <td>3.0</td>\n",
       "      <td>60150.0</td>\n",
       "    </tr>\n",
       "    <tr>\n",
       "      <th>7</th>\n",
       "      <td>3.2</td>\n",
       "      <td>54445.0</td>\n",
       "    </tr>\n",
       "    <tr>\n",
       "      <th>8</th>\n",
       "      <td>3.2</td>\n",
       "      <td>64445.0</td>\n",
       "    </tr>\n",
       "    <tr>\n",
       "      <th>9</th>\n",
       "      <td>3.7</td>\n",
       "      <td>57189.0</td>\n",
       "    </tr>\n",
       "    <tr>\n",
       "      <th>10</th>\n",
       "      <td>3.9</td>\n",
       "      <td>63218.0</td>\n",
       "    </tr>\n",
       "    <tr>\n",
       "      <th>11</th>\n",
       "      <td>4.0</td>\n",
       "      <td>55794.0</td>\n",
       "    </tr>\n",
       "    <tr>\n",
       "      <th>12</th>\n",
       "      <td>4.0</td>\n",
       "      <td>56957.0</td>\n",
       "    </tr>\n",
       "    <tr>\n",
       "      <th>13</th>\n",
       "      <td>4.1</td>\n",
       "      <td>57081.0</td>\n",
       "    </tr>\n",
       "    <tr>\n",
       "      <th>14</th>\n",
       "      <td>4.5</td>\n",
       "      <td>61111.0</td>\n",
       "    </tr>\n",
       "    <tr>\n",
       "      <th>15</th>\n",
       "      <td>4.9</td>\n",
       "      <td>67938.0</td>\n",
       "    </tr>\n",
       "    <tr>\n",
       "      <th>16</th>\n",
       "      <td>5.1</td>\n",
       "      <td>66029.0</td>\n",
       "    </tr>\n",
       "    <tr>\n",
       "      <th>17</th>\n",
       "      <td>5.3</td>\n",
       "      <td>83088.0</td>\n",
       "    </tr>\n",
       "    <tr>\n",
       "      <th>18</th>\n",
       "      <td>5.9</td>\n",
       "      <td>81363.0</td>\n",
       "    </tr>\n",
       "    <tr>\n",
       "      <th>19</th>\n",
       "      <td>6.0</td>\n",
       "      <td>93940.0</td>\n",
       "    </tr>\n",
       "    <tr>\n",
       "      <th>20</th>\n",
       "      <td>6.8</td>\n",
       "      <td>91738.0</td>\n",
       "    </tr>\n",
       "    <tr>\n",
       "      <th>21</th>\n",
       "      <td>7.1</td>\n",
       "      <td>98273.0</td>\n",
       "    </tr>\n",
       "    <tr>\n",
       "      <th>22</th>\n",
       "      <td>7.9</td>\n",
       "      <td>101302.0</td>\n",
       "    </tr>\n",
       "    <tr>\n",
       "      <th>23</th>\n",
       "      <td>8.2</td>\n",
       "      <td>113812.0</td>\n",
       "    </tr>\n",
       "    <tr>\n",
       "      <th>24</th>\n",
       "      <td>8.7</td>\n",
       "      <td>109431.0</td>\n",
       "    </tr>\n",
       "    <tr>\n",
       "      <th>25</th>\n",
       "      <td>9.0</td>\n",
       "      <td>105582.0</td>\n",
       "    </tr>\n",
       "    <tr>\n",
       "      <th>26</th>\n",
       "      <td>9.5</td>\n",
       "      <td>116969.0</td>\n",
       "    </tr>\n",
       "    <tr>\n",
       "      <th>27</th>\n",
       "      <td>9.6</td>\n",
       "      <td>112635.0</td>\n",
       "    </tr>\n",
       "    <tr>\n",
       "      <th>28</th>\n",
       "      <td>10.3</td>\n",
       "      <td>122391.0</td>\n",
       "    </tr>\n",
       "    <tr>\n",
       "      <th>29</th>\n",
       "      <td>10.5</td>\n",
       "      <td>121872.0</td>\n",
       "    </tr>\n",
       "  </tbody>\n",
       "</table>\n",
       "</div>"
      ],
      "text/plain": [
       "    YearsExperience    Salary\n",
       "0               1.1   39343.0\n",
       "1               1.3   46205.0\n",
       "2               1.5   37731.0\n",
       "3               2.0   43525.0\n",
       "4               2.2   39891.0\n",
       "5               2.9   56642.0\n",
       "6               3.0   60150.0\n",
       "7               3.2   54445.0\n",
       "8               3.2   64445.0\n",
       "9               3.7   57189.0\n",
       "10              3.9   63218.0\n",
       "11              4.0   55794.0\n",
       "12              4.0   56957.0\n",
       "13              4.1   57081.0\n",
       "14              4.5   61111.0\n",
       "15              4.9   67938.0\n",
       "16              5.1   66029.0\n",
       "17              5.3   83088.0\n",
       "18              5.9   81363.0\n",
       "19              6.0   93940.0\n",
       "20              6.8   91738.0\n",
       "21              7.1   98273.0\n",
       "22              7.9  101302.0\n",
       "23              8.2  113812.0\n",
       "24              8.7  109431.0\n",
       "25              9.0  105582.0\n",
       "26              9.5  116969.0\n",
       "27              9.6  112635.0\n",
       "28             10.3  122391.0\n",
       "29             10.5  121872.0"
      ]
     },
     "execution_count": 87,
     "metadata": {},
     "output_type": "execute_result"
    }
   ],
   "source": [
    "dataset.head(35)"
   ]
  },
  {
   "cell_type": "code",
   "execution_count": 88,
   "id": "ed0f59bc-b893-4cf7-b7d5-3cf3409bc233",
   "metadata": {},
   "outputs": [
    {
     "data": {
      "text/plain": [
       "(30, 2)"
      ]
     },
     "execution_count": 88,
     "metadata": {},
     "output_type": "execute_result"
    }
   ],
   "source": [
    "dataset.shape"
   ]
  },
  {
   "cell_type": "code",
   "execution_count": 12,
   "id": "7d10b2d4-6ef9-427f-9309-d0b6a3a63370",
   "metadata": {},
   "outputs": [],
   "source": [
    "# Linear means we have signle independent variable over here by the name of \"YearsExperience\""
   ]
  },
  {
   "cell_type": "code",
   "execution_count": null,
   "id": "60ac0f29-8865-4195-a49b-4ebe94b4a999",
   "metadata": {},
   "outputs": [],
   "source": [
    "# y = mx + c, m is slope of the line, c is the y-intercept\n",
    "\n",
    "# y = b0 + b1 * x\n",
    "\n",
    "# Salary = b0 + b1 * Experience"
   ]
  },
  {
   "cell_type": "markdown",
   "id": "b6674615-7d22-4ba9-9a80-5e94e3eef244",
   "metadata": {},
   "source": [
    "#### Need to SPlit into x = (Feauture) and y = (Label)"
   ]
  },
  {
   "cell_type": "code",
   "execution_count": 13,
   "id": "9b66b3a4-d0e4-4337-bd24-0a632bd2fc12",
   "metadata": {},
   "outputs": [],
   "source": [
    "# in this Scenario, we have y = Salary, x = Experience, Now we need to find b0 and b1"
   ]
  },
  {
   "cell_type": "code",
   "execution_count": 14,
   "id": "c6cc4597-02db-4823-a264-3f72e2f7505d",
   "metadata": {},
   "outputs": [],
   "source": [
    "# Since it is a Dataframe, we need to separate x (Feauture) from (y)Label part"
   ]
  },
  {
   "cell_type": "code",
   "execution_count": 89,
   "id": "74aa2c43-f321-4ac3-be37-8f8f5db6f244",
   "metadata": {},
   "outputs": [],
   "source": [
    "x = dataset.iloc[:, :1].values  # .value is using to convert it into numpy array\n",
    "y = dataset.iloc[:, 1:].values"
   ]
  },
  {
   "cell_type": "code",
   "execution_count": 90,
   "id": "54dedaa8-a907-402b-a67d-3dc03d4e11db",
   "metadata": {},
   "outputs": [
    {
     "data": {
      "text/plain": [
       "array([[ 1.1],\n",
       "       [ 1.3],\n",
       "       [ 1.5],\n",
       "       [ 2. ],\n",
       "       [ 2.2],\n",
       "       [ 2.9],\n",
       "       [ 3. ],\n",
       "       [ 3.2],\n",
       "       [ 3.2],\n",
       "       [ 3.7],\n",
       "       [ 3.9],\n",
       "       [ 4. ],\n",
       "       [ 4. ],\n",
       "       [ 4.1],\n",
       "       [ 4.5],\n",
       "       [ 4.9],\n",
       "       [ 5.1],\n",
       "       [ 5.3],\n",
       "       [ 5.9],\n",
       "       [ 6. ],\n",
       "       [ 6.8],\n",
       "       [ 7.1],\n",
       "       [ 7.9],\n",
       "       [ 8.2],\n",
       "       [ 8.7],\n",
       "       [ 9. ],\n",
       "       [ 9.5],\n",
       "       [ 9.6],\n",
       "       [10.3],\n",
       "       [10.5]])"
      ]
     },
     "execution_count": 90,
     "metadata": {},
     "output_type": "execute_result"
    }
   ],
   "source": [
    "x"
   ]
  },
  {
   "cell_type": "code",
   "execution_count": 91,
   "id": "01a9e2b7-a6b8-4edc-8688-a0ebe9ba0de2",
   "metadata": {},
   "outputs": [
    {
     "data": {
      "text/plain": [
       "array([[ 39343.],\n",
       "       [ 46205.],\n",
       "       [ 37731.],\n",
       "       [ 43525.],\n",
       "       [ 39891.],\n",
       "       [ 56642.],\n",
       "       [ 60150.],\n",
       "       [ 54445.],\n",
       "       [ 64445.],\n",
       "       [ 57189.],\n",
       "       [ 63218.],\n",
       "       [ 55794.],\n",
       "       [ 56957.],\n",
       "       [ 57081.],\n",
       "       [ 61111.],\n",
       "       [ 67938.],\n",
       "       [ 66029.],\n",
       "       [ 83088.],\n",
       "       [ 81363.],\n",
       "       [ 93940.],\n",
       "       [ 91738.],\n",
       "       [ 98273.],\n",
       "       [101302.],\n",
       "       [113812.],\n",
       "       [109431.],\n",
       "       [105582.],\n",
       "       [116969.],\n",
       "       [112635.],\n",
       "       [122391.],\n",
       "       [121872.]])"
      ]
     },
     "execution_count": 91,
     "metadata": {},
     "output_type": "execute_result"
    }
   ],
   "source": [
    "y"
   ]
  },
  {
   "cell_type": "code",
   "execution_count": 46,
   "id": "f1350a26-3386-4528-b0e2-7d460fa9f4ad",
   "metadata": {},
   "outputs": [],
   "source": [
    "# Since there is not any missing value of Nan value, we will ignore Preprocessing part"
   ]
  },
  {
   "cell_type": "markdown",
   "id": "36ea9784-e15c-4582-b042-549c7c307077",
   "metadata": {},
   "source": [
    "#### Spilitting the Dataset through 'sklearn' for Train and Test"
   ]
  },
  {
   "cell_type": "code",
   "execution_count": 47,
   "id": "4265e933-9c2d-4952-b115-e055224125b1",
   "metadata": {},
   "outputs": [],
   "source": [
    "# Splitting the Dataset means you divide your dataset into two main parts\n",
    "\n",
    "#  Training Set --> which is used to train model\n",
    "#  Testing Set  --> is not reveal to the machine model, Later use for testing and finding the accuracy"
   ]
  },
  {
   "cell_type": "code",
   "execution_count": 92,
   "id": "e6c87f4b-0979-4f2a-8998-cdc4c7b33894",
   "metadata": {},
   "outputs": [],
   "source": [
    "from sklearn.model_selection import train_test_split"
   ]
  },
  {
   "cell_type": "code",
   "execution_count": 93,
   "id": "37be235c-fe6f-4670-8253-78c68f6caeee",
   "metadata": {},
   "outputs": [],
   "source": [
    "\n",
    "x_train, x_test, y_train, y_test = train_test_split(x , y , test_size=0.3, random_state=0)"
   ]
  },
  {
   "cell_type": "code",
   "execution_count": 94,
   "id": "a02a9270-a2c7-48bd-8838-69616933e727",
   "metadata": {},
   "outputs": [
    {
     "data": {
      "text/plain": [
       "array([[ 7.9],\n",
       "       [ 2.9],\n",
       "       [ 5.1],\n",
       "       [ 3.2],\n",
       "       [ 4.5],\n",
       "       [ 8.2],\n",
       "       [ 6.8],\n",
       "       [ 1.3],\n",
       "       [10.5],\n",
       "       [ 3. ],\n",
       "       [ 2.2],\n",
       "       [ 5.9],\n",
       "       [ 6. ],\n",
       "       [ 3.7],\n",
       "       [ 3.2],\n",
       "       [ 9. ],\n",
       "       [ 2. ],\n",
       "       [ 1.1],\n",
       "       [ 7.1],\n",
       "       [ 4.9],\n",
       "       [ 4. ]])"
      ]
     },
     "execution_count": 94,
     "metadata": {},
     "output_type": "execute_result"
    }
   ],
   "source": [
    "x_train"
   ]
  },
  {
   "cell_type": "code",
   "execution_count": 95,
   "id": "79cc1913-9974-4c97-a7e2-8adf4861bbb4",
   "metadata": {},
   "outputs": [
    {
     "data": {
      "text/plain": [
       "array([[ 37731.],\n",
       "       [122391.],\n",
       "       [ 57081.],\n",
       "       [ 63218.],\n",
       "       [116969.],\n",
       "       [109431.],\n",
       "       [112635.],\n",
       "       [ 55794.],\n",
       "       [ 83088.]])"
      ]
     },
     "execution_count": 95,
     "metadata": {},
     "output_type": "execute_result"
    }
   ],
   "source": [
    "y_test"
   ]
  },
  {
   "cell_type": "markdown",
   "id": "732c05fe-5a12-49a2-beae-0d99bb8f9b0d",
   "metadata": {},
   "source": [
    "#### Visualized the Model by Scatter plot"
   ]
  },
  {
   "cell_type": "code",
   "execution_count": 96,
   "id": "b54dfab5-753e-493b-b66b-448c2ab23465",
   "metadata": {},
   "outputs": [],
   "source": [
    "# Important step, Need to visualize your model or dataset before model selection"
   ]
  },
  {
   "cell_type": "code",
   "execution_count": 97,
   "id": "cb471899-23f4-4b38-96eb-7f7fd56fac6c",
   "metadata": {},
   "outputs": [
    {
     "data": {
      "image/png": "[encoded data removed]",
      "text/plain": [
       "<Figure size 640x480 with 1 Axes>"
      ]
     },
     "metadata": {},
     "output_type": "display_data"
    }
   ],
   "source": [
    "plt.scatter(x, y)\n",
    "plt.show()"
   ]
  },
  {
   "cell_type": "code",
   "execution_count": 98,
   "id": "38d50e52-b462-46e9-ad5c-761ccc5e9103",
   "metadata": {},
   "outputs": [],
   "source": [
    "# Seems like its following linear pattern, best choice is to fit linear algorithm"
   ]
  },
  {
   "cell_type": "code",
   "execution_count": null,
   "id": "f0dea0fc-23e4-4801-91fa-0df4055dd824",
   "metadata": {},
   "outputs": [],
   "source": []
  },
  {
   "cell_type": "markdown",
   "id": "1276f690-d944-4aa9-9d3c-d92cb8fffabb",
   "metadata": {},
   "source": [
    "#### Created Liner Model to Fitted at x_train and y_train"
   ]
  },
  {
   "cell_type": "markdown",
   "id": "9ded1c75-6fc1-4a19-8b11-1b5a59c6bc35",
   "metadata": {},
   "source": [
    "##### Now importing Linear model"
   ]
  },
  {
   "cell_type": "code",
   "execution_count": 99,
   "id": "73aaabaa-50aa-4746-9e84-27408fa563cf",
   "metadata": {},
   "outputs": [],
   "source": [
    "from sklearn.linear_model import LinearRegression"
   ]
  },
  {
   "cell_type": "markdown",
   "id": "a7a09750-a4e6-4085-b515-b5c552e86b29",
   "metadata": {},
   "source": [
    "#### Fit the Model"
   ]
  },
  {
   "cell_type": "code",
   "execution_count": 100,
   "id": "00a818b5-f6ad-4048-8cfa-fd72e356c11f",
   "metadata": {},
   "outputs": [
    {
     "data": {
      "text/html": [
       "<style>#sk-container-id-4 {\n",
       "  /* Definition of color scheme common for light and dark mode */\n",
       "  --sklearn-color-text: black;\n",
       "  --sklearn-color-line: gray;\n",
       "  /* Definition of color scheme for unfitted estimators */\n",
       "  --sklearn-color-unfitted-level-0: #fff5e6;\n",
       "  --sklearn-color-unfitted-level-1: #f6e4d2;\n",
       "  --sklearn-color-unfitted-level-2: #ffe0b3;\n",
       "  --sklearn-color-unfitted-level-3: chocolate;\n",
       "  /* Definition of color scheme for fitted estimators */\n",
       "  --sklearn-color-fitted-level-0: #f0f8ff;\n",
       "  --sklearn-color-fitted-level-1: #d4ebff;\n",
       "  --sklearn-color-fitted-level-2: #b3dbfd;\n",
       "  --sklearn-color-fitted-level-3: cornflowerblue;\n",
       "\n",
       "  /* Specific color for light theme */\n",
       "  --sklearn-color-text-on-default-background: var(--sg-text-color, var(--theme-code-foreground, var(--jp-content-font-color1, black)));\n",
       "  --sklearn-color-background: var(--sg-background-color, var(--theme-background, var(--jp-layout-color0, white)));\n",
       "  --sklearn-color-border-box: var(--sg-text-color, var(--theme-code-foreground, var(--jp-content-font-color1, black)));\n",
       "  --sklearn-color-icon: #696969;\n",
       "\n",
       "  @media (prefers-color-scheme: dark) {\n",
       "    /* Redefinition of color scheme for dark theme */\n",
       "    --sklearn-color-text-on-default-background: var(--sg-text-color, var(--theme-code-foreground, var(--jp-content-font-color1, white)));\n",
       "    --sklearn-color-background: var(--sg-background-color, var(--theme-background, var(--jp-layout-color0, #111)));\n",
       "    --sklearn-color-border-box: var(--sg-text-color, var(--theme-code-foreground, var(--jp-content-font-color1, white)));\n",
       "    --sklearn-color-icon: #878787;\n",
       "  }\n",
       "}\n",
       "\n",
       "#sk-container-id-4 {\n",
       "  color: var(--sklearn-color-text);\n",
       "}\n",
       "\n",
       "#sk-container-id-4 pre {\n",
       "  padding: 0;\n",
       "}\n",
       "\n",
       "#sk-container-id-4 input.sk-hidden--visually {\n",
       "  border: 0;\n",
       "  clip: rect(1px 1px 1px 1px);\n",
       "  clip: rect(1px, 1px, 1px, 1px);\n",
       "  height: 1px;\n",
       "  margin: -1px;\n",
       "  overflow: hidden;\n",
       "  padding: 0;\n",
       "  position: absolute;\n",
       "  width: 1px;\n",
       "}\n",
       "\n",
       "#sk-container-id-4 div.sk-dashed-wrapped {\n",
       "  border: 1px dashed var(--sklearn-color-line);\n",
       "  margin: 0 0.4em 0.5em 0.4em;\n",
       "  box-sizing: border-box;\n",
       "  padding-bottom: 0.4em;\n",
       "  background-color: var(--sklearn-color-background);\n",
       "}\n",
       "\n",
       "#sk-container-id-4 div.sk-container {\n",
       "  /* jupyter's `normalize.less` sets `[hidden] { display: none; }`\n",
       "     but bootstrap.min.css set `[hidden] { display: none !important; }`\n",
       "     so we also need the `!important` here to be able to override the\n",
       "     default hidden behavior on the sphinx rendered scikit-learn.org.\n",
       "     See: https://github.com/scikit-learn/scikit-learn/issues/21755 */\n",
       "  display: inline-block !important;\n",
       "  position: relative;\n",
       "}\n",
       "\n",
       "#sk-container-id-4 div.sk-text-repr-fallback {\n",
       "  display: none;\n",
       "}\n",
       "\n",
       "div.sk-parallel-item,\n",
       "div.sk-serial,\n",
       "div.sk-item {\n",
       "  /* draw centered vertical line to link estimators */\n",
       "  background-image: linear-gradient(var(--sklearn-color-text-on-default-background), var(--sklearn-color-text-on-default-background));\n",
       "  background-size: 2px 100%;\n",
       "  background-repeat: no-repeat;\n",
       "  background-position: center center;\n",
       "}\n",
       "\n",
       "/* Parallel-specific style estimator block */\n",
       "\n",
       "#sk-container-id-4 div.sk-parallel-item::after {\n",
       "  content: \"\";\n",
       "  width: 100%;\n",
       "  border-bottom: 2px solid var(--sklearn-color-text-on-default-background);\n",
       "  flex-grow: 1;\n",
       "}\n",
       "\n",
       "#sk-container-id-4 div.sk-parallel {\n",
       "  display: flex;\n",
       "  align-items: stretch;\n",
       "  justify-content: center;\n",
       "  background-color: var(--sklearn-color-background);\n",
       "  position: relative;\n",
       "}\n",
       "\n",
       "#sk-container-id-4 div.sk-parallel-item {\n",
       "  display: flex;\n",
       "  flex-direction: column;\n",
       "}\n",
       "\n",
       "#sk-container-id-4 div.sk-parallel-item:first-child::after {\n",
       "  align-self: flex-end;\n",
       "  width: 50%;\n",
       "}\n",
       "\n",
       "#sk-container-id-4 div.sk-parallel-item:last-child::after {\n",
       "  align-self: flex-start;\n",
       "  width: 50%;\n",
       "}\n",
       "\n",
       "#sk-container-id-4 div.sk-parallel-item:only-child::after {\n",
       "  width: 0;\n",
       "}\n",
       "\n",
       "/* Serial-specific style estimator block */\n",
       "\n",
       "#sk-container-id-4 div.sk-serial {\n",
       "  display: flex;\n",
       "  flex-direction: column;\n",
       "  align-items: center;\n",
       "  background-color: var(--sklearn-color-background);\n",
       "  padding-right: 1em;\n",
       "  padding-left: 1em;\n",
       "}\n",
       "\n",
       "\n",
       "/* Toggleable style: style used for estimator/Pipeline/ColumnTransformer box that is\n",
       "clickable and can be expanded/collapsed.\n",
       "- Pipeline and ColumnTransformer use this feature and define the default style\n",
       "- Estimators will overwrite some part of the style using the `sk-estimator` class\n",
       "*/\n",
       "\n",
       "/* Pipeline and ColumnTransformer style (default) */\n",
       "\n",
       "#sk-container-id-4 div.sk-toggleable {\n",
       "  /* Default theme specific background. It is overwritten whether we have a\n",
       "  specific estimator or a Pipeline/ColumnTransformer */\n",
       "  background-color: var(--sklearn-color-background);\n",
       "}\n",
       "\n",
       "/* Toggleable label */\n",
       "#sk-container-id-4 label.sk-toggleable__label {\n",
       "  cursor: pointer;\n",
       "  display: block;\n",
       "  width: 100%;\n",
       "  margin-bottom: 0;\n",
       "  padding: 0.5em;\n",
       "  box-sizing: border-box;\n",
       "  text-align: center;\n",
       "}\n",
       "\n",
       "#sk-container-id-4 label.sk-toggleable__label-arrow:before {\n",
       "  /* Arrow on the left of the label */\n",
       "  content: \"▸\";\n",
       "  float: left;\n",
       "  margin-right: 0.25em;\n",
       "  color: var(--sklearn-color-icon);\n",
       "}\n",
       "\n",
       "#sk-container-id-4 label.sk-toggleable__label-arrow:hover:before {\n",
       "  color: var(--sklearn-color-text);\n",
       "}\n",
       "\n",
       "/* Toggleable content - dropdown */\n",
       "\n",
       "#sk-container-id-4 div.sk-toggleable__content {\n",
       "  max-height: 0;\n",
       "  max-width: 0;\n",
       "  overflow: hidden;\n",
       "  text-align: left;\n",
       "  /* unfitted */\n",
       "  background-color: var(--sklearn-color-unfitted-level-0);\n",
       "}\n",
       "\n",
       "#sk-container-id-4 div.sk-toggleable__content.fitted {\n",
       "  /* fitted */\n",
       "  background-color: var(--sklearn-color-fitted-level-0);\n",
       "}\n",
       "\n",
       "#sk-container-id-4 div.sk-toggleable__content pre {\n",
       "  margin: 0.2em;\n",
       "  border-radius: 0.25em;\n",
       "  color: var(--sklearn-color-text);\n",
       "  /* unfitted */\n",
       "  background-color: var(--sklearn-color-unfitted-level-0);\n",
       "}\n",
       "\n",
       "#sk-container-id-4 div.sk-toggleable__content.fitted pre {\n",
       "  /* unfitted */\n",
       "  background-color: var(--sklearn-color-fitted-level-0);\n",
       "}\n",
       "\n",
       "#sk-container-id-4 input.sk-toggleable__control:checked~div.sk-toggleable__content {\n",
       "  /* Expand drop-down */\n",
       "  max-height: 200px;\n",
       "  max-width: 100%;\n",
       "  overflow: auto;\n",
       "}\n",
       "\n",
       "#sk-container-id-4 input.sk-toggleable__control:checked~label.sk-toggleable__label-arrow:before {\n",
       "  content: \"▾\";\n",
       "}\n",
       "\n",
       "/* Pipeline/ColumnTransformer-specific style */\n",
       "\n",
       "#sk-container-id-4 div.sk-label input.sk-toggleable__control:checked~label.sk-toggleable__label {\n",
       "  color: var(--sklearn-color-text);\n",
       "  background-color: var(--sklearn-color-unfitted-level-2);\n",
       "}\n",
       "\n",
       "#sk-container-id-4 div.sk-label.fitted input.sk-toggleable__control:checked~label.sk-toggleable__label {\n",
       "  background-color: var(--sklearn-color-fitted-level-2);\n",
       "}\n",
       "\n",
       "/* Estimator-specific style */\n",
       "\n",
       "/* Colorize estimator box */\n",
       "#sk-container-id-4 div.sk-estimator input.sk-toggleable__control:checked~label.sk-toggleable__label {\n",
       "  /* unfitted */\n",
       "  background-color: var(--sklearn-color-unfitted-level-2);\n",
       "}\n",
       "\n",
       "#sk-container-id-4 div.sk-estimator.fitted input.sk-toggleable__control:checked~label.sk-toggleable__label {\n",
       "  /* fitted */\n",
       "  background-color: var(--sklearn-color-fitted-level-2);\n",
       "}\n",
       "\n",
       "#sk-container-id-4 div.sk-label label.sk-toggleable__label,\n",
       "#sk-container-id-4 div.sk-label label {\n",
       "  /* The background is the default theme color */\n",
       "  color: var(--sklearn-color-text-on-default-background);\n",
       "}\n",
       "\n",
       "/* On hover, darken the color of the background */\n",
       "#sk-container-id-4 div.sk-label:hover label.sk-toggleable__label {\n",
       "  color: var(--sklearn-color-text);\n",
       "  background-color: var(--sklearn-color-unfitted-level-2);\n",
       "}\n",
       "\n",
       "/* Label box, darken color on hover, fitted */\n",
       "#sk-container-id-4 div.sk-label.fitted:hover label.sk-toggleable__label.fitted {\n",
       "  color: var(--sklearn-color-text);\n",
       "  background-color: var(--sklearn-color-fitted-level-2);\n",
       "}\n",
       "\n",
       "/* Estimator label */\n",
       "\n",
       "#sk-container-id-4 div.sk-label label {\n",
       "  font-family: monospace;\n",
       "  font-weight: bold;\n",
       "  display: inline-block;\n",
       "  line-height: 1.2em;\n",
       "}\n",
       "\n",
       "#sk-container-id-4 div.sk-label-container {\n",
       "  text-align: center;\n",
       "}\n",
       "\n",
       "/* Estimator-specific */\n",
       "#sk-container-id-4 div.sk-estimator {\n",
       "  font-family: monospace;\n",
       "  border: 1px dotted var(--sklearn-color-border-box);\n",
       "  border-radius: 0.25em;\n",
       "  box-sizing: border-box;\n",
       "  margin-bottom: 0.5em;\n",
       "  /* unfitted */\n",
       "  background-color: var(--sklearn-color-unfitted-level-0);\n",
       "}\n",
       "\n",
       "#sk-container-id-4 div.sk-estimator.fitted {\n",
       "  /* fitted */\n",
       "  background-color: var(--sklearn-color-fitted-level-0);\n",
       "}\n",
       "\n",
       "/* on hover */\n",
       "#sk-container-id-4 div.sk-estimator:hover {\n",
       "  /* unfitted */\n",
       "  background-color: var(--sklearn-color-unfitted-level-2);\n",
       "}\n",
       "\n",
       "#sk-container-id-4 div.sk-estimator.fitted:hover {\n",
       "  /* fitted */\n",
       "  background-color: var(--sklearn-color-fitted-level-2);\n",
       "}\n",
       "\n",
       "/* Specification for estimator info (e.g. \"i\" and \"?\") */\n",
       "\n",
       "/* Common style for \"i\" and \"?\" */\n",
       "\n",
       ".sk-estimator-doc-link,\n",
       "a:link.sk-estimator-doc-link,\n",
       "a:visited.sk-estimator-doc-link {\n",
       "  float: right;\n",
       "  font-size: smaller;\n",
       "  line-height: 1em;\n",
       "  font-family: monospace;\n",
       "  background-color: var(--sklearn-color-background);\n",
       "  border-radius: 1em;\n",
       "  height: 1em;\n",
       "  width: 1em;\n",
       "  text-decoration: none !important;\n",
       "  margin-left: 1ex;\n",
       "  /* unfitted */\n",
       "  border: var(--sklearn-color-unfitted-level-1) 1pt solid;\n",
       "  color: var(--sklearn-color-unfitted-level-1);\n",
       "}\n",
       "\n",
       ".sk-estimator-doc-link.fitted,\n",
       "a:link.sk-estimator-doc-link.fitted,\n",
       "a:visited.sk-estimator-doc-link.fitted {\n",
       "  /* fitted */\n",
       "  border: var(--sklearn-color-fitted-level-1) 1pt solid;\n",
       "  color: var(--sklearn-color-fitted-level-1);\n",
       "}\n",
       "\n",
       "/* On hover */\n",
       "div.sk-estimator:hover .sk-estimator-doc-link:hover,\n",
       ".sk-estimator-doc-link:hover,\n",
       "div.sk-label-container:hover .sk-estimator-doc-link:hover,\n",
       ".sk-estimator-doc-link:hover {\n",
       "  /* unfitted */\n",
       "  background-color: var(--sklearn-color-unfitted-level-3);\n",
       "  color: var(--sklearn-color-background);\n",
       "  text-decoration: none;\n",
       "}\n",
       "\n",
       "div.sk-estimator.fitted:hover .sk-estimator-doc-link.fitted:hover,\n",
       ".sk-estimator-doc-link.fitted:hover,\n",
       "div.sk-label-container:hover .sk-estimator-doc-link.fitted:hover,\n",
       ".sk-estimator-doc-link.fitted:hover {\n",
       "  /* fitted */\n",
       "  background-color: var(--sklearn-color-fitted-level-3);\n",
       "  color: var(--sklearn-color-background);\n",
       "  text-decoration: none;\n",
       "}\n",
       "\n",
       "/* Span, style for the box shown on hovering the info icon */\n",
       ".sk-estimator-doc-link span {\n",
       "  display: none;\n",
       "  z-index: 9999;\n",
       "  position: relative;\n",
       "  font-weight: normal;\n",
       "  right: .2ex;\n",
       "  padding: .5ex;\n",
       "  margin: .5ex;\n",
       "  width: min-content;\n",
       "  min-width: 20ex;\n",
       "  max-width: 50ex;\n",
       "  color: var(--sklearn-color-text);\n",
       "  box-shadow: 2pt 2pt 4pt #999;\n",
       "  /* unfitted */\n",
       "  background: var(--sklearn-color-unfitted-level-0);\n",
       "  border: .5pt solid var(--sklearn-color-unfitted-level-3);\n",
       "}\n",
       "\n",
       ".sk-estimator-doc-link.fitted span {\n",
       "  /* fitted */\n",
       "  background: var(--sklearn-color-fitted-level-0);\n",
       "  border: var(--sklearn-color-fitted-level-3);\n",
       "}\n",
       "\n",
       ".sk-estimator-doc-link:hover span {\n",
       "  display: block;\n",
       "}\n",
       "\n",
       "/* \"?\"-specific style due to the `<a>` HTML tag */\n",
       "\n",
       "#sk-container-id-4 a.estimator_doc_link {\n",
       "  float: right;\n",
       "  font-size: 1rem;\n",
       "  line-height: 1em;\n",
       "  font-family: monospace;\n",
       "  background-color: var(--sklearn-color-background);\n",
       "  border-radius: 1rem;\n",
       "  height: 1rem;\n",
       "  width: 1rem;\n",
       "  text-decoration: none;\n",
       "  /* unfitted */\n",
       "  color: var(--sklearn-color-unfitted-level-1);\n",
       "  border: var(--sklearn-color-unfitted-level-1) 1pt solid;\n",
       "}\n",
       "\n",
       "#sk-container-id-4 a.estimator_doc_link.fitted {\n",
       "  /* fitted */\n",
       "  border: var(--sklearn-color-fitted-level-1) 1pt solid;\n",
       "  color: var(--sklearn-color-fitted-level-1);\n",
       "}\n",
       "\n",
       "/* On hover */\n",
       "#sk-container-id-4 a.estimator_doc_link:hover {\n",
       "  /* unfitted */\n",
       "  background-color: var(--sklearn-color-unfitted-level-3);\n",
       "  color: var(--sklearn-color-background);\n",
       "  text-decoration: none;\n",
       "}\n",
       "\n",
       "#sk-container-id-4 a.estimator_doc_link.fitted:hover {\n",
       "  /* fitted */\n",
       "  background-color: var(--sklearn-color-fitted-level-3);\n",
       "}\n",
       "</style><div id=\"sk-container-id-4\" class=\"sk-top-container\"><div class=\"sk-text-repr-fallback\"><pre>LinearRegression()</pre><b>In a Jupyter environment, please rerun this cell to show the HTML representation or trust the notebook. <br />On GitHub, the HTML representation is unable to render, please try loading this page with nbviewer.org.</b></div><div class=\"sk-container\" hidden><div class=\"sk-item\"><div class=\"sk-estimator fitted sk-toggleable\"><input class=\"sk-toggleable__control sk-hidden--visually\" id=\"sk-estimator-id-4\" type=\"checkbox\" checked><label for=\"sk-estimator-id-4\" class=\"sk-toggleable__label fitted sk-toggleable__label-arrow fitted\">&nbsp;&nbsp;LinearRegression<a class=\"sk-estimator-doc-link fitted\" rel=\"noreferrer\" target=\"_blank\" href=\"https://scikit-learn.org/1.5/modules/generated/sklearn.linear_model.LinearRegression.html\">?<span>Documentation for LinearRegression</span></a><span class=\"sk-estimator-doc-link fitted\">i<span>Fitted</span></span></label><div class=\"sk-toggleable__content fitted\"><pre>LinearRegression()</pre></div> </div></div></div></div>"
      ],
      "text/plain": [
       "LinearRegression()"
      ]
     },
     "execution_count": 100,
     "metadata": {},
     "output_type": "execute_result"
    }
   ],
   "source": [
    "# Object name = Class()\n",
    "\n",
    "regressor = LinearRegression()\n",
    "\n",
    "#Model fit step\n",
    "regressor.fit(x_train, y_train)  #It will fit Linear Model for these two variable"
   ]
  },
  {
   "cell_type": "code",
   "execution_count": 103,
   "id": "6deed9c9-6937-43ed-9b80-5c92efe5d63d",
   "metadata": {},
   "outputs": [
    {
     "data": {
      "text/plain": [
       "array([[ 1.5],\n",
       "       [10.3],\n",
       "       [ 4.1],\n",
       "       [ 3.9],\n",
       "       [ 9.5],\n",
       "       [ 8.7],\n",
       "       [ 9.6],\n",
       "       [ 4. ],\n",
       "       [ 5.3]])"
      ]
     },
     "execution_count": 103,
     "metadata": {},
     "output_type": "execute_result"
    }
   ],
   "source": [
    "x_test #just checking it"
   ]
  },
  {
   "cell_type": "markdown",
   "id": "4e6b08dd-682e-449c-a222-451c5f3423b0",
   "metadata": {},
   "source": [
    "#### Model prediction on x_test"
   ]
  },
  {
   "cell_type": "code",
   "execution_count": 104,
   "id": "ce616024-40a4-4f1d-a845-adbf958996fd",
   "metadata": {},
   "outputs": [],
   "source": [
    "# Next step is model Prediction, Once the model is fit, we will use prediction\n",
    "# Prediction always done on 'testing sets'. Prediction is done on 'x test' \n",
    "y_pred = regressor.predict(x_test)"
   ]
  },
  {
   "cell_type": "code",
   "execution_count": null,
   "id": "6047bf12-1b08-4f3a-b086-ad0ce6f03d9c",
   "metadata": {},
   "outputs": [],
   "source": []
  },
  {
   "cell_type": "code",
   "execution_count": 105,
   "id": "1111f970-8bce-428b-bdaf-740f4594cc5b",
   "metadata": {},
   "outputs": [
    {
     "data": {
      "text/plain": [
       "(array([[ 37731.],\n",
       "        [122391.],\n",
       "        [ 57081.],\n",
       "        [ 63218.],\n",
       "        [116969.],\n",
       "        [109431.],\n",
       "        [112635.],\n",
       "        [ 55794.],\n",
       "        [ 83088.]]),\n",
       " array([[ 40817.78327049],\n",
       "        [123188.08258899],\n",
       "        [ 65154.46261459],\n",
       "        [ 63282.41035735],\n",
       "        [115699.87356004],\n",
       "        [108211.66453108],\n",
       "        [116635.89968866],\n",
       "        [ 64218.43648597],\n",
       "        [ 76386.77615802]]))"
      ]
     },
     "execution_count": 105,
     "metadata": {},
     "output_type": "execute_result"
    }
   ],
   "source": [
    "y_test, y_pred"
   ]
  },
  {
   "cell_type": "code",
   "execution_count": null,
   "id": "f26706ce-998c-499c-8312-b68a013e3db7",
   "metadata": {},
   "outputs": [],
   "source": [
    "# if we see lest value of both of them\n",
    "# y_test = 83088 and y_pred = 76386, the error generated is around 3000\n",
    "# this is a dataset of 30 values, if we have greater data entry then we have better model tunning"
   ]
  },
  {
   "cell_type": "code",
   "execution_count": null,
   "id": "911ba3c2-8b4c-4e38-8cfa-1c86b7a039b2",
   "metadata": {},
   "outputs": [],
   "source": []
  },
  {
   "cell_type": "markdown",
   "id": "245be007-6ec4-48ec-8621-c839829fa1c1",
   "metadata": {},
   "source": [
    "#### Visualization for x_train and x_Test"
   ]
  },
  {
   "cell_type": "markdown",
   "id": "2a36a694-7c71-4a7d-a311-f326d4f8e67b",
   "metadata": {},
   "source": [
    "#### Graph of Training set"
   ]
  },
  {
   "cell_type": "code",
   "execution_count": 112,
   "id": "9d45f2ea-990e-42da-af43-740502655382",
   "metadata": {},
   "outputs": [],
   "source": [
    "# Now we will visualize the Graph for Training set"
   ]
  },
  {
   "cell_type": "code",
   "execution_count": 111,
   "id": "2b00d154-811d-42c8-b3e1-d5d93bbf15ca",
   "metadata": {},
   "outputs": [
    {
     "data": {
      "image/png": "[encoded data removed]",
      "text/plain": [
       "<Figure size 640x480 with 1 Axes>"
      ]
     },
     "metadata": {},
     "output_type": "display_data"
    }
   ],
   "source": [
    "plt.scatter( x_train, y_train, color='red')\n",
    "plt.plot(x_train, regressor.predict(x_train), color='blue')\n",
    "plt.title('Salary vs Experience (Training set)')\n",
    "plt.xlabel('Years of Experience')\n",
    "plt.ylabel('Salary')\n",
    "plt.show()"
   ]
  },
  {
   "cell_type": "code",
   "execution_count": 113,
   "id": "8a63d78e-3de2-49a2-8f02-beb76db111e7",
   "metadata": {},
   "outputs": [],
   "source": [
    "# above 'blue line' is the best fitted line, all predicted value pass through above blue line\n",
    "# In above training set actual points are in red color \n",
    "# The one predicted by model are in blue line"
   ]
  },
  {
   "cell_type": "code",
   "execution_count": null,
   "id": "961c920c-abb9-42a1-9272-2f45baeb2653",
   "metadata": {},
   "outputs": [],
   "source": []
  },
  {
   "cell_type": "markdown",
   "id": "68120991-66ba-47fe-b5b2-08b9792afe96",
   "metadata": {},
   "source": [
    "#### Graph of Testing sets Results"
   ]
  },
  {
   "cell_type": "code",
   "execution_count": 121,
   "id": "2ffb9f80-cc8f-458c-8843-e908d488ae0c",
   "metadata": {},
   "outputs": [
    {
     "data": {
      "image/png": "[encoded data removed]",
      "text/plain": [
       "<Figure size 640x480 with 1 Axes>"
      ]
     },
     "metadata": {},
     "output_type": "display_data"
    }
   ],
   "source": [
    "plt.scatter(x_test, y_test, color='red')\n",
    "plt.plot(x_train, regressor.predict(x_train), color='blue')\n",
    "plt.title('Salary vs Experience (Testing set)')\n",
    "plt.xlabel('Years of Experience')\n",
    "plt.ylabel('Salary')\n",
    "plt.show()"
   ]
  },
  {
   "cell_type": "code",
   "execution_count": 119,
   "id": "df9ced25-3b69-4837-a7e9-3d1acf622f25",
   "metadata": {},
   "outputs": [],
   "source": [
    "# in plt.plot above, we use x_train instead of x_test becuase\n",
    "# the blue line in above 'training set' is best fitted, line the model has preicted and drawn \n",
    "# if i type 'x_test' above in 'Testing set graph', it will not make any difference becuase\n",
    "# x_test points lie in the same blue line just for understanding I replace\n",
    "# x_train with x_test in 'Testing set graph', same blue line plotted whether is x_train or x_test"
   ]
  },
  {
   "cell_type": "code",
   "execution_count": 122,
   "id": "db0823d7-125a-4a9a-9feb-be8b4198e17a",
   "metadata": {},
   "outputs": [
    {
     "data": {
      "image/png": "[encoded data removed]",
      "text/plain": [
       "<Figure size 640x480 with 1 Axes>"
      ]
     },
     "metadata": {},
     "output_type": "display_data"
    }
   ],
   "source": [
    "plt.scatter(x_test, y_test, color='red')\n",
    "plt.plot(x_train, regressor.predict(x_train), color='blue')\n",
    "plt.title('Salary vs Experience (Testing set)')\n",
    "plt.xlabel('Years of Experience')\n",
    "plt.ylabel('Salary')\n",
    "plt.show()"
   ]
  },
  {
   "cell_type": "code",
   "execution_count": null,
   "id": "134847a4-83e0-446a-a168-b2d0c1833c4a",
   "metadata": {},
   "outputs": [],
   "source": []
  },
  {
   "cell_type": "markdown",
   "id": "77eae98e-0e4c-427d-8f89-d8c597592dc2",
   "metadata": {},
   "source": [
    "#### Find Random Point for Predict"
   ]
  },
  {
   "cell_type": "code",
   "execution_count": 124,
   "id": "2825b152-9bc3-483a-9698-4871e9f31347",
   "metadata": {},
   "outputs": [],
   "source": [
    "# if you have a random Years of experience, you can predict salary of employee iwgt its help"
   ]
  },
  {
   "cell_type": "code",
   "execution_count": 125,
   "id": "23ae0819-cbdb-4f0a-b166-26df72d30b16",
   "metadata": {},
   "outputs": [],
   "source": [
    "# lets say, if year of experience of an employee is 12, how we are able to predict Salary?"
   ]
  },
  {
   "cell_type": "code",
   "execution_count": 128,
   "id": "b8962f96-9616-4c52-abec-8b79566960c1",
   "metadata": {},
   "outputs": [
    {
     "name": "stdout",
     "output_type": "stream",
     "text": [
      "[[139100.52677552]]\n"
     ]
    }
   ],
   "source": [
    "print(regressor.predict([[12]]))  # the array in regressor object must be '2D Array'\n",
    "# method of predict must be '2D Array'"
   ]
  },
  {
   "cell_type": "code",
   "execution_count": 131,
   "id": "2a1dec04-bb44-46ac-86b7-396c2e48bcbd",
   "metadata": {},
   "outputs": [],
   "source": [
    "# x_train and x_test must be in '2D Array', \n",
    "# we can check them here again to verify they are in '2D Array'"
   ]
  },
  {
   "cell_type": "code",
   "execution_count": 135,
   "id": "61cd551c-61cb-41be-9426-3c832adcdd94",
   "metadata": {},
   "outputs": [
    {
     "data": {
      "text/plain": [
       "array([[ 7.9],\n",
       "       [ 2.9],\n",
       "       [ 5.1],\n",
       "       [ 3.2],\n",
       "       [ 4.5],\n",
       "       [ 8.2],\n",
       "       [ 6.8],\n",
       "       [ 1.3],\n",
       "       [10.5],\n",
       "       [ 3. ],\n",
       "       [ 2.2],\n",
       "       [ 5.9],\n",
       "       [ 6. ],\n",
       "       [ 3.7],\n",
       "       [ 3.2],\n",
       "       [ 9. ],\n",
       "       [ 2. ],\n",
       "       [ 1.1],\n",
       "       [ 7.1],\n",
       "       [ 4.9],\n",
       "       [ 4. ]])"
      ]
     },
     "execution_count": 135,
     "metadata": {},
     "output_type": "execute_result"
    }
   ],
   "source": [
    "x_train # or x_test they should be in '2D Array"
   ]
  },
  {
   "cell_type": "code",
   "execution_count": 137,
   "id": "3a2a0c10-b685-48c8-9a4d-d47c7985adcd",
   "metadata": {},
   "outputs": [
    {
     "name": "stdout",
     "output_type": "stream",
     "text": [
      "[[139100.52677552]]\n"
     ]
    }
   ],
   "source": [
    "print(regressor.predict([[12]]))  # the array in regressor object must be '2D Array'\n",
    "# method of predict must be '2D Array'"
   ]
  },
  {
   "cell_type": "code",
   "execution_count": 139,
   "id": "c5255e3c-a8c5-4d32-ac15-3ca69f04d7b7",
   "metadata": {},
   "outputs": [],
   "source": [
    "# on the basis of above result, if any employee have 12 years of experience their \n",
    "# salary should be 139100 \n",
    "# in this way we can do prediction for number of points"
   ]
  },
  {
   "cell_type": "code",
   "execution_count": 140,
   "id": "3fb19340-870d-4eb8-b642-2e12e74f6a5f",
   "metadata": {},
   "outputs": [
    {
     "name": "stdout",
     "output_type": "stream",
     "text": [
      "[[54858.17519978]]\n"
     ]
    }
   ],
   "source": [
    "print(regressor.predict([[3]]))"
   ]
  },
  {
   "cell_type": "code",
   "execution_count": null,
   "id": "59dc0a70-696e-481b-bcac-e40b2a9866f3",
   "metadata": {},
   "outputs": [],
   "source": []
  },
  {
   "cell_type": "markdown",
   "id": "1f3f4c66-835d-4ad6-bd3a-a59941a00d06",
   "metadata": {},
   "source": [
    "#### Coefficient of Equation"
   ]
  },
  {
   "cell_type": "code",
   "execution_count": 142,
   "id": "38a859a9-7942-4269-8163-7995ddd6074c",
   "metadata": {},
   "outputs": [],
   "source": [
    "# After that if we find the Coefficient of Equation, we can find them as well by below method"
   ]
  },
  {
   "cell_type": "code",
   "execution_count": 143,
   "id": "a44c207f-6bbb-434c-9bac-622f3b863e21",
   "metadata": {},
   "outputs": [],
   "source": [
    "#   y = mx + c, m is slope of the line, c is the y-intercept\n",
    "#   y = b0 + b1 * X1\n",
    "#   Salary = b0 + b1 * Experience"
   ]
  },
  {
   "cell_type": "code",
   "execution_count": 147,
   "id": "d610dc47-7e11-4376-b668-19ea99ccfb29",
   "metadata": {},
   "outputs": [],
   "source": [
    "c = regressor.intercept_     #b0   # through this we will get intercept of best fitted line which is blue\n",
    "m = regressor.coef_          #b1"
   ]
  },
  {
   "cell_type": "code",
   "execution_count": 148,
   "id": "b5787c2b-8a97-4c13-bb64-cc14b6de75cd",
   "metadata": {},
   "outputs": [
    {
     "data": {
      "text/plain": [
       "(array([26777.3913412]), array([[9360.26128619]]))"
      ]
     },
     "execution_count": 148,
     "metadata": {},
     "output_type": "execute_result"
    }
   ],
   "source": [
    "c , m"
   ]
  },
  {
   "cell_type": "code",
   "execution_count": null,
   "id": "896a8399-5fbd-4dad-9370-86aed7583657",
   "metadata": {},
   "outputs": [],
   "source": [
    "#Salary = c + m * Experience\n",
    "\n",
    "# Salary = 26777.39134 + 9360.26128 + Year of experience "
   ]
  },
  {
   "cell_type": "code",
   "execution_count": 149,
   "id": "178439e5-03cb-4f2a-a891-374c66832269",
   "metadata": {},
   "outputs": [],
   "source": [
    "# the above is complete equation, if we have to predict anything above is the equation"
   ]
  },
  {
   "cell_type": "code",
   "execution_count": 151,
   "id": "ce8d3520-85c5-4869-a3d6-eb72788b2eb9",
   "metadata": {},
   "outputs": [],
   "source": [
    "# Just need to add Year of Experience, then we get the salary"
   ]
  },
  {
   "cell_type": "code",
   "execution_count": null,
   "id": "1f8487f8-cfb9-4cb8-a866-be7a5a9f5778",
   "metadata": {},
   "outputs": [],
   "source": []
  },
  {
   "cell_type": "markdown",
   "id": "90fc2200-e54f-439e-866e-8cfafe1fb2f2",
   "metadata": {},
   "source": [
    "## This is the Model\n",
    "\n",
    "## Salary = 26777.39134 + 9360.26128 + Year of experience "
   ]
  },
  {
   "cell_type": "code",
   "execution_count": 158,
   "id": "ac6108bf-2f69-46a7-97c3-2ad6fee01896",
   "metadata": {},
   "outputs": [],
   "source": [
    "#In this model, we can enter the 'Years of Experience' and in return we will get the 'Salary'"
   ]
  },
  {
   "cell_type": "code",
   "execution_count": null,
   "id": "256526ad-55d1-45d5-852b-f9c2427b9ff0",
   "metadata": {},
   "outputs": [],
   "source": []
  }
 ],
 "metadata": {
  "kernelspec": {
   "display_name": "Python 3 (ipykernel)",
   "language": "python",
   "name": "python3"
  },
  "language_info": {
   "codemirror_mode": {
    "name": "ipython",
    "version": 3
   },
   "file_extension": ".py",
   "mimetype": "text/x-python",
   "name": "python",
   "nbconvert_exporter": "python",
   "pygments_lexer": "ipython3",
   "version": "3.12.7"
  }
 },
 "nbformat": 4,
 "nbformat_minor": 5
}
