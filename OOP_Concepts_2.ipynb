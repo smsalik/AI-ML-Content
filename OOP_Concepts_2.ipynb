{
 "cells": [
  {
   "cell_type": "markdown",
   "id": "53a080de-1cdd-4c56-b03f-07f5b0e0ecda",
   "metadata": {},
   "source": [
    "## Object Oriented Programming - Part 2"
   ]
  },
  {
   "cell_type": "markdown",
   "id": "41e02d5a-6f7a-4305-865c-5989b85b4025",
   "metadata": {},
   "source": [
    "### Parent Child - Inheritance"
   ]
  },
  {
   "cell_type": "code",
   "execution_count": 16,
   "id": "007012e7-ab14-4135-a392-d72f2ba2813a",
   "metadata": {},
   "outputs": [],
   "source": [
    "class Animal():\n",
    "    def __init__(self):\n",
    "        print('Animal is Created')\n",
    "\n",
    "    def whoami(self):\n",
    "        print('Animal')\n",
    "\n",
    "    def eat(self):\n",
    "        print('Eating')\n",
    "\n",
    "class Dog(Animal):\n",
    "    def __init__(self):\n",
    "        print('Dog is created')\n",
    "\n",
    "    def whoami(self):\n",
    "        print('Dog')\n",
    "\n",
    "    def bark(self):\n",
    "        print('Woof!')"
   ]
  },
  {
   "cell_type": "code",
   "execution_count": 17,
   "id": "18ea6e6c-4b54-426f-a472-38f576fde1cf",
   "metadata": {},
   "outputs": [
    {
     "name": "stdout",
     "output_type": "stream",
     "text": [
      "Dog is created\n"
     ]
    }
   ],
   "source": [
    "d = Dog()"
   ]
  },
  {
   "cell_type": "code",
   "execution_count": 18,
   "id": "3b71a9cd-2488-4fa8-8347-33e13c3e9ed6",
   "metadata": {},
   "outputs": [
    {
     "name": "stdout",
     "output_type": "stream",
     "text": [
      "Dog\n"
     ]
    }
   ],
   "source": [
    "d.whoami()"
   ]
  },
  {
   "cell_type": "code",
   "execution_count": 19,
   "id": "4592e130-abd2-4e63-aa32-745c90b74bf1",
   "metadata": {},
   "outputs": [
    {
     "name": "stdout",
     "output_type": "stream",
     "text": [
      "Woof!\n"
     ]
    }
   ],
   "source": [
    "d.bark()"
   ]
  },
  {
   "cell_type": "code",
   "execution_count": 20,
   "id": "bebbcdb0-501d-4722-865e-a08cf9baa16b",
   "metadata": {},
   "outputs": [
    {
     "name": "stdout",
     "output_type": "stream",
     "text": [
      "Eating\n"
     ]
    }
   ],
   "source": [
    "d.eat()"
   ]
  },
  {
   "cell_type": "code",
   "execution_count": null,
   "id": "9bdf5db7-1af6-48d5-8c29-669cb52af697",
   "metadata": {},
   "outputs": [],
   "source": []
  },
  {
   "cell_type": "markdown",
   "id": "ca9e52f0-a085-4b0c-a0af-04be87c1ace1",
   "metadata": {},
   "source": [
    "### Special Functions"
   ]
  },
  {
   "cell_type": "code",
   "execution_count": 84,
   "id": "d2ab9788-aaef-4337-b36e-14dfb3b78d93",
   "metadata": {},
   "outputs": [],
   "source": [
    "class Book():\n",
    "    def __init__(self, title, author, pages):\n",
    "        self.title = title\n",
    "        self.author = author\n",
    "        self.pages = pages \n",
    "\n",
    "    def __str__(self):\n",
    "        return \"Title : {}, Author : {} and Pages : {}\". format(self.title, self.author, self.pages)\n",
    "\n",
    "    def __len__(self):\n",
    "        return self.pages\n",
    "\n",
    "    def __del__(self):\n",
    "        print('Book is destroyed')"
   ]
  },
  {
   "cell_type": "code",
   "execution_count": 85,
   "id": "2c0d59e4-1f9f-4aab-9f69-4c44cb189e67",
   "metadata": {},
   "outputs": [],
   "source": [
    "book = Book('Python','Salik',1000)"
   ]
  },
  {
   "cell_type": "code",
   "execution_count": 86,
   "id": "47310925-32f6-41cf-974d-76d10d0c3dca",
   "metadata": {},
   "outputs": [
    {
     "name": "stdout",
     "output_type": "stream",
     "text": [
      "Title : Python, Author : Salik and Pages : 1000\n"
     ]
    }
   ],
   "source": [
    "print(book)"
   ]
  },
  {
   "cell_type": "code",
   "execution_count": 87,
   "id": "453a5558-6276-44a3-a87d-b82b7e1fd8d1",
   "metadata": {},
   "outputs": [
    {
     "name": "stdout",
     "output_type": "stream",
     "text": [
      "<class '__main__.Book'>\n"
     ]
    }
   ],
   "source": [
    "print(type(book))"
   ]
  },
  {
   "cell_type": "code",
   "execution_count": 88,
   "id": "9d98bdf4-9d96-4fc4-85f5-a2c879ff4965",
   "metadata": {},
   "outputs": [
    {
     "data": {
      "text/plain": [
       "'Python'"
      ]
     },
     "execution_count": 88,
     "metadata": {},
     "output_type": "execute_result"
    }
   ],
   "source": [
    "book.title"
   ]
  },
  {
   "cell_type": "code",
   "execution_count": 89,
   "id": "5cbf7b77-2af8-4ff4-ba12-394987debdb4",
   "metadata": {},
   "outputs": [
    {
     "data": {
      "text/plain": [
       "'Salik'"
      ]
     },
     "execution_count": 89,
     "metadata": {},
     "output_type": "execute_result"
    }
   ],
   "source": [
    "book.author"
   ]
  },
  {
   "cell_type": "code",
   "execution_count": 90,
   "id": "b965fe5a-c923-4bbc-a637-22dc32d56247",
   "metadata": {},
   "outputs": [
    {
     "data": {
      "text/plain": [
       "1000"
      ]
     },
     "execution_count": 90,
     "metadata": {},
     "output_type": "execute_result"
    }
   ],
   "source": [
    "book.pages"
   ]
  },
  {
   "cell_type": "code",
   "execution_count": 91,
   "id": "5ec287bc-ceae-42a5-ab5b-186c600637e6",
   "metadata": {},
   "outputs": [
    {
     "data": {
      "text/plain": [
       "1000"
      ]
     },
     "execution_count": 91,
     "metadata": {},
     "output_type": "execute_result"
    }
   ],
   "source": [
    "len(book)"
   ]
  },
  {
   "cell_type": "code",
   "execution_count": 92,
   "id": "70c2fa41-db06-43e7-87ad-a906b7d08d34",
   "metadata": {},
   "outputs": [
    {
     "name": "stdout",
     "output_type": "stream",
     "text": [
      "Book is destroyed\n"
     ]
    }
   ],
   "source": [
    "del book"
   ]
  },
  {
   "cell_type": "code",
   "execution_count": null,
   "id": "9c177dc1-1b7f-4076-bb01-a56b4dd24ec3",
   "metadata": {},
   "outputs": [],
   "source": []
  }
 ],
 "metadata": {
  "kernelspec": {
   "display_name": "Python 3 (ipykernel)",
   "language": "python",
   "name": "python3"
  },
  "language_info": {
   "codemirror_mode": {
    "name": "ipython",
    "version": 3
   },
   "file_extension": ".py",
   "mimetype": "text/x-python",
   "name": "python",
   "nbconvert_exporter": "python",
   "pygments_lexer": "ipython3",
   "version": "3.12.7"
  }
 },
 "nbformat": 4,
 "nbformat_minor": 5
}
