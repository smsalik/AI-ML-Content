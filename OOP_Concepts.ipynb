{
 "cells": [
  {
   "cell_type": "markdown",
   "id": "049ab0bc-6e06-4273-b1cd-51551dd40184",
   "metadata": {},
   "source": [
    "## Object Oriented Programming"
   ]
  },
  {
   "cell_type": "code",
   "execution_count": 224,
   "id": "a19a8176-ece6-4913-8829-6ebb15d130fb",
   "metadata": {},
   "outputs": [],
   "source": [
    "#Class, Object, Attributes/Propertiesand Behavior/Functions/Methods"
   ]
  },
  {
   "cell_type": "code",
   "execution_count": 11,
   "id": "eab20f47-671e-49f2-96a4-e8f32d8776a7",
   "metadata": {},
   "outputs": [],
   "source": [
    "class Sample():\n",
    "    pass"
   ]
  },
  {
   "cell_type": "code",
   "execution_count": 14,
   "id": "c84f4e46-6115-4959-b8eb-a50056457219",
   "metadata": {},
   "outputs": [
    {
     "name": "stdout",
     "output_type": "stream",
     "text": [
      "<__main__.Sample object at 0x000001BF0B902540>\n",
      "<class '__main__.Sample'>\n"
     ]
    }
   ],
   "source": [
    "x = Sample()\n",
    "print(x)\n",
    "print(type(x))"
   ]
  },
  {
   "cell_type": "code",
   "execution_count": null,
   "id": "74dd6ef9-4f23-4f73-9849-84c6bbbfb02e",
   "metadata": {},
   "outputs": [],
   "source": []
  },
  {
   "cell_type": "markdown",
   "id": "48ecaab3-faf3-45ba-86d6-56eebeacdbe7",
   "metadata": {},
   "source": [
    "#### Real World Example"
   ]
  },
  {
   "cell_type": "code",
   "execution_count": 37,
   "id": "be2b36ed-a9b8-4d32-872b-85cde950f2e4",
   "metadata": {},
   "outputs": [],
   "source": [
    "class Dog():                    #Class is Dog here\n",
    "    def __init__(self, breed):  #These are attributes of object\n",
    "        self.breed = breed      #These are attributes of onject\n",
    "\n",
    "#Through def __init__(self, breed) --> we are creating an Initializer or Constructor\n",
    "#self is always first keywaord"
   ]
  },
  {
   "cell_type": "code",
   "execution_count": 29,
   "id": "242b18bf-b1d8-4fe0-93c2-580c4dfbbd9d",
   "metadata": {},
   "outputs": [],
   "source": [
    "sam = Dog(breed = 'Lab')   #Here we are creating an Object 'sam' and Class is 'Dog'"
   ]
  },
  {
   "cell_type": "code",
   "execution_count": 30,
   "id": "2356c644-e72f-4f20-bda4-48ae14e12893",
   "metadata": {},
   "outputs": [],
   "source": [
    "frank = Dog(breed = 'Husky')    #Here we are creating an Object 'frank' and Class is 'Dog'"
   ]
  },
  {
   "cell_type": "code",
   "execution_count": 31,
   "id": "62b067ae-530d-4fac-b14c-b9392ed328c5",
   "metadata": {},
   "outputs": [
    {
     "data": {
      "text/plain": [
       "'Lab'"
      ]
     },
     "execution_count": 31,
     "metadata": {},
     "output_type": "execute_result"
    }
   ],
   "source": [
    "sam.breed"
   ]
  },
  {
   "cell_type": "code",
   "execution_count": 32,
   "id": "f97e67a0-cf00-474f-9f9e-d01e622ba8f4",
   "metadata": {},
   "outputs": [
    {
     "data": {
      "text/plain": [
       "'Husky'"
      ]
     },
     "execution_count": 32,
     "metadata": {},
     "output_type": "execute_result"
    }
   ],
   "source": [
    "frank.breed"
   ]
  },
  {
   "cell_type": "markdown",
   "id": "a024327e-1ebf-46e5-acec-f695cd27ce80",
   "metadata": {},
   "source": [
    "#### Real World Example 2"
   ]
  },
  {
   "cell_type": "code",
   "execution_count": 53,
   "id": "9fb46885-7097-42d1-ad5b-5d09f0195982",
   "metadata": {},
   "outputs": [],
   "source": [
    "class Dog():\n",
    "\n",
    "    species = 'mammals'    #Here specias is defined as Class Object attribute. \n",
    "    #This can be call from anywhere either with class or object\n",
    "    \n",
    "    def __init__(self, breed, name):\n",
    "        self.breed = breed\n",
    "        self.name = name"
   ]
  },
  {
   "cell_type": "code",
   "execution_count": 61,
   "id": "494cd8d8-f3b3-4866-94f2-86754a86b9c4",
   "metadata": {},
   "outputs": [],
   "source": [
    "sam = Dog('Lab', 'Alen')"
   ]
  },
  {
   "cell_type": "code",
   "execution_count": 62,
   "id": "ee02f702-3db7-4aad-a370-2d8999e07d71",
   "metadata": {},
   "outputs": [
    {
     "data": {
      "text/plain": [
       "'Lab'"
      ]
     },
     "execution_count": 62,
     "metadata": {},
     "output_type": "execute_result"
    }
   ],
   "source": [
    "sam.breed"
   ]
  },
  {
   "cell_type": "code",
   "execution_count": 63,
   "id": "9c1c676e-6610-418b-a4f8-b0d289af1975",
   "metadata": {},
   "outputs": [
    {
     "data": {
      "text/plain": [
       "'Alen'"
      ]
     },
     "execution_count": 63,
     "metadata": {},
     "output_type": "execute_result"
    }
   ],
   "source": [
    "sam.name"
   ]
  },
  {
   "cell_type": "code",
   "execution_count": 64,
   "id": "5e28491d-62b2-41a2-8cbe-276c70f01a2b",
   "metadata": {},
   "outputs": [
    {
     "data": {
      "text/plain": [
       "'mammals'"
      ]
     },
     "execution_count": 64,
     "metadata": {},
     "output_type": "execute_result"
    }
   ],
   "source": [
    "sam.species  #Refernce of Class Attribute"
   ]
  },
  {
   "cell_type": "code",
   "execution_count": null,
   "id": "a8d50feb-d8a7-40b6-a58d-127ae3ff8e61",
   "metadata": {},
   "outputs": [],
   "source": []
  },
  {
   "cell_type": "markdown",
   "id": "f31adee2-9a13-4d75-b334-c59dc60bb31d",
   "metadata": {},
   "source": [
    "#### Real World Example 2"
   ]
  },
  {
   "cell_type": "code",
   "execution_count": 161,
   "id": "8265ea03-feaf-4e63-8ae8-48a692f9c03f",
   "metadata": {},
   "outputs": [],
   "source": [
    "class Circle():\n",
    "    \n",
    "    pi = 3.142  # Class Object Attribute\n",
    "\n",
    "    def __init__(self, radius = 1): #Initialize Constructor with Attributes (self and radius)\n",
    "        self.radius = radius\n",
    "        \n",
    "    def area(self):\n",
    "        return self.radius * self.radius * Circle.pi\n",
    "        \n",
    "    "
   ]
  },
  {
   "cell_type": "code",
   "execution_count": 149,
   "id": "07f0dbb5-b888-4eec-91dc-68f2c03cceb1",
   "metadata": {},
   "outputs": [],
   "source": [
    "c1 = Circle()"
   ]
  },
  {
   "cell_type": "code",
   "execution_count": 150,
   "id": "20c9aa80-2a75-477e-b51a-8babd893c03b",
   "metadata": {},
   "outputs": [
    {
     "name": "stdout",
     "output_type": "stream",
     "text": [
      "3.142\n"
     ]
    }
   ],
   "source": [
    "print(c1.area())   #Calling the method refrence 'area' here"
   ]
  },
  {
   "cell_type": "code",
   "execution_count": 107,
   "id": "5b559589-b29a-4057-bffa-30eee9906b66",
   "metadata": {},
   "outputs": [
    {
     "data": {
      "text/plain": [
       "1"
      ]
     },
     "execution_count": 107,
     "metadata": {},
     "output_type": "execute_result"
    }
   ],
   "source": [
    "c1.radius         #Calling the attribute refrence 'radius' here"
   ]
  },
  {
   "cell_type": "code",
   "execution_count": 108,
   "id": "6dbeffd6-d167-4ea5-bbf1-5c67397cf110",
   "metadata": {},
   "outputs": [],
   "source": [
    "c1 = Circle(2)"
   ]
  },
  {
   "cell_type": "code",
   "execution_count": 109,
   "id": "b0fdaa5f-a0d9-4a5d-82c3-3ea11b955b1a",
   "metadata": {},
   "outputs": [
    {
     "name": "stdout",
     "output_type": "stream",
     "text": [
      "12.568\n"
     ]
    }
   ],
   "source": [
    "print(c1.area())  #Calling the method refrence 'area' here"
   ]
  },
  {
   "cell_type": "code",
   "execution_count": 110,
   "id": "b0ad10d8-2544-479f-870c-94c991fad689",
   "metadata": {},
   "outputs": [
    {
     "data": {
      "text/plain": [
       "2"
      ]
     },
     "execution_count": 110,
     "metadata": {},
     "output_type": "execute_result"
    }
   ],
   "source": [
    "c1.radius         #Calling the attribute refrence 'radius' here"
   ]
  },
  {
   "cell_type": "code",
   "execution_count": 162,
   "id": "492a6dd6-0c0a-4a77-9c5c-935cf23c4235",
   "metadata": {},
   "outputs": [],
   "source": [
    "c1 = Circle(5)"
   ]
  },
  {
   "cell_type": "code",
   "execution_count": 112,
   "id": "edc43f3d-c669-4fd9-9dd2-95b40527d673",
   "metadata": {},
   "outputs": [
    {
     "data": {
      "text/plain": [
       "5"
      ]
     },
     "execution_count": 112,
     "metadata": {},
     "output_type": "execute_result"
    }
   ],
   "source": [
    "c1.radius         #Calling the attribute refrence 'radius' here"
   ]
  },
  {
   "cell_type": "code",
   "execution_count": 163,
   "id": "26c88e2e-cefa-4ab7-ae9f-548a947a3ebb",
   "metadata": {},
   "outputs": [
    {
     "name": "stdout",
     "output_type": "stream",
     "text": [
      "78.55\n"
     ]
    }
   ],
   "source": [
    "print(c1.area())  #Calling the method refrence 'area' here"
   ]
  },
  {
   "cell_type": "code",
   "execution_count": null,
   "id": "796a3ccf-2e93-4477-92d5-51c7710c093e",
   "metadata": {},
   "outputs": [],
   "source": []
  },
  {
   "cell_type": "markdown",
   "id": "928ca6f6-7dfa-4b74-bd13-8d10ddf0b752",
   "metadata": {},
   "source": [
    "#### Real World Example 3"
   ]
  },
  {
   "cell_type": "code",
   "execution_count": 225,
   "id": "9b142be7-0290-41a8-9a26-d1b3edafebba",
   "metadata": {},
   "outputs": [],
   "source": [
    "class Circle():\n",
    "\n",
    "    pi = 3.142\n",
    "\n",
    "    def __init__(self, radius = 1):\n",
    "        self.radius = radius\n",
    "\n",
    "    def area(self):\n",
    "        return self.radius * self.radius * Circle.pi\n",
    "\n",
    "    def setradius(self, radius):\n",
    "        self.radius = radius\n",
    "\n"
   ]
  },
  {
   "cell_type": "code",
   "execution_count": 195,
   "id": "f62de303-9e2a-47d5-97b6-a01fc301b6aa",
   "metadata": {},
   "outputs": [],
   "source": [
    "c1 = Circle(1)\n"
   ]
  },
  {
   "cell_type": "code",
   "execution_count": 196,
   "id": "87531c6b-2eed-4a8e-99bf-7d51b342e278",
   "metadata": {},
   "outputs": [],
   "source": [
    "c1 = Circle(2)"
   ]
  },
  {
   "cell_type": "code",
   "execution_count": 197,
   "id": "341ab2be-6c58-43a0-a2be-42d726e1b595",
   "metadata": {},
   "outputs": [
    {
     "name": "stdout",
     "output_type": "stream",
     "text": [
      "12.568\n"
     ]
    }
   ],
   "source": [
    "print(c1.area())"
   ]
  },
  {
   "cell_type": "code",
   "execution_count": 228,
   "id": "642f3124-ee84-4eac-bae6-b04de951da29",
   "metadata": {},
   "outputs": [
    {
     "name": "stdout",
     "output_type": "stream",
     "text": [
      "12.568\n"
     ]
    }
   ],
   "source": [
    "c1 = Circle()\n",
    "c1.setradius(2)\n",
    "print(c1.area())"
   ]
  },
  {
   "cell_type": "code",
   "execution_count": null,
   "id": "8ee91220-f09f-44ee-b43e-07fc0ebee55a",
   "metadata": {},
   "outputs": [],
   "source": []
  },
  {
   "cell_type": "markdown",
   "id": "e1303ac8-1edc-4058-b35d-293b14de10de",
   "metadata": {},
   "source": [
    "#### Real World Example 4"
   ]
  },
  {
   "cell_type": "code",
   "execution_count": 220,
   "id": "159ee580-e696-48fb-a82c-85c6e901ab13",
   "metadata": {},
   "outputs": [],
   "source": [
    "class Circle():\n",
    "\n",
    "    pi = 3.142\n",
    "\n",
    "    def __init__(self, radius = 1):\n",
    "        self.radius = radius\n",
    "\n",
    "    def area(self):\n",
    "        return self.radius * self.radius * Circle.pi\n",
    "\n",
    "    def setradius(self, radius):\n",
    "        self.radius = radius\n",
    "    "
   ]
  },
  {
   "cell_type": "code",
   "execution_count": 221,
   "id": "8a08ae86-751d-4d7b-9d58-573c2f4333da",
   "metadata": {},
   "outputs": [],
   "source": [
    "c1 = Circle()"
   ]
  },
  {
   "cell_type": "code",
   "execution_count": 218,
   "id": "03398f46-0ae9-4b5e-8f3d-b63ecfb604a8",
   "metadata": {},
   "outputs": [
    {
     "data": {
      "text/plain": [
       "1"
      ]
     },
     "execution_count": 218,
     "metadata": {},
     "output_type": "execute_result"
    }
   ],
   "source": [
    "c1.radius"
   ]
  },
  {
   "cell_type": "code",
   "execution_count": 222,
   "id": "2d277307-fa94-453b-96e8-07200a2ee86c",
   "metadata": {},
   "outputs": [
    {
     "name": "stdout",
     "output_type": "stream",
     "text": [
      "3.142\n"
     ]
    }
   ],
   "source": [
    "print(c1.area())"
   ]
  },
  {
   "cell_type": "code",
   "execution_count": null,
   "id": "3fa692ba-1d92-46a1-9a3f-af89a555eccd",
   "metadata": {},
   "outputs": [],
   "source": []
  },
  {
   "cell_type": "code",
   "execution_count": 223,
   "id": "eb60b1a1-49d2-4e5c-aecc-ac9e6858bcae",
   "metadata": {},
   "outputs": [
    {
     "name": "stdout",
     "output_type": "stream",
     "text": [
      "12.568\n"
     ]
    }
   ],
   "source": [
    "c2 = Circle()\n",
    "\n",
    "c2.setradius(2)\n",
    "\n",
    "print(c2.area())"
   ]
  },
  {
   "cell_type": "code",
   "execution_count": null,
   "id": "6b333a71-eab4-4724-b1ee-35240bd829c8",
   "metadata": {},
   "outputs": [],
   "source": []
  },
  {
   "cell_type": "code",
   "execution_count": null,
   "id": "69ae7f54-4547-4fd0-84e2-da145652ded8",
   "metadata": {},
   "outputs": [],
   "source": []
  },
  {
   "cell_type": "code",
   "execution_count": null,
   "id": "613def51-3cad-4330-99eb-14e599c90063",
   "metadata": {},
   "outputs": [],
   "source": []
  }
 ],
 "metadata": {
  "kernelspec": {
   "display_name": "Python 3 (ipykernel)",
   "language": "python",
   "name": "python3"
  },
  "language_info": {
   "codemirror_mode": {
    "name": "ipython",
    "version": 3
   },
   "file_extension": ".py",
   "mimetype": "text/x-python",
   "name": "python",
   "nbconvert_exporter": "python",
   "pygments_lexer": "ipython3",
   "version": "3.12.7"
  }
 },
 "nbformat": 4,
 "nbformat_minor": 5
}
